{
 "cells": [
  {
   "cell_type": "markdown",
   "id": "b5e6f567-5ba5-43b6-ad93-8e0e781193d6",
   "metadata": {},
   "source": [
    "# Closure Objects"
   ]
  },
  {
   "cell_type": "markdown",
   "id": "372fbd02-e62c-4fbb-a9b8-2729146558f7",
   "metadata": {},
   "source": [
    "This post is inspired by Robert Nystorm's excellent book \"Crafting Interpreters\".\n",
    "You can find the original idea in here: https://craftinginterpreters.com/closures.html#challenges"
   ]
  },
  {
   "cell_type": "markdown",
   "id": "adc0ec28-6f36-42d9-86fe-104ab8275211",
   "metadata": {},
   "source": [
    "## Closures"
   ]
  },
  {
   "cell_type": "markdown",
   "id": "c766b186-d04f-499c-b623-247c10aa2454",
   "metadata": {},
   "source": [
    "What is a closure?\n",
    "Usually, a function defines its own scope. Local variables that are created inside the function - cease to exist when the function returns.\n",
    "\n",
    "That \"cease to exist\" means that objects are no longer reachable and they get garbage-collected.\n",
    "I would like to show you that objects inside functions don't exist after the function returns - but how can I demonstrate that i _cannot_ access an object anymore?\n",
    "\n",
    "For that we will use the `weakref` python library, which enables us to hold pointers to objects but doesn't prevent them from getting garbage-collected.\n",
    "When a weakref points to a collected object, it is dramatically announced \"dead\"."
   ]
  },
  {
   "cell_type": "code",
   "execution_count": 1,
   "id": "4c015e83-4bc3-4e72-8bef-13ce6d13ea87",
   "metadata": {
    "editable": true,
    "slideshow": {
     "slide_type": ""
    },
    "tags": []
   },
   "outputs": [
    {
     "name": "stdout",
     "output_type": "stream",
     "text": [
      "<weakref at 0x00000280B87DA6B0; dead>\n"
     ]
    }
   ],
   "source": [
    "import gc\n",
    "import weakref\n",
    "\n",
    "class TrackedObject:     \n",
    "    pass\n",
    "\n",
    "def func():\n",
    "    global ref\n",
    "    obj = TrackedObject()\n",
    "    ref = weakref.ref(obj)\n",
    "    return\n",
    "\n",
    "func()\n",
    "gc.collect()\n",
    "print(ref)  # <weakref at ...; dead>"
   ]
  },
  {
   "cell_type": "markdown",
   "id": "da893619-e3da-47b4-b6b5-8e16a5738fd0",
   "metadata": {},
   "source": [
    "See? dead.\n",
    "\n",
    "However, functions can \"close-over\" values from outer scopes - making them live even after the function has returned:"
   ]
  },
  {
   "cell_type": "code",
   "execution_count": 2,
   "id": "ca61308f-2569-4af2-a001-a0a530b574dc",
   "metadata": {},
   "outputs": [
    {
     "name": "stdout",
     "output_type": "stream",
     "text": [
      "<weakref at 0x00000280B875B5B0; to 'TrackedObject' at 0x00000280B87C2720>\n"
     ]
    }
   ],
   "source": [
    "def func():\n",
    "    global ref\n",
    "    obj = TrackedObject()\n",
    "    ref = weakref.ref(obj)\n",
    "    def inner():\n",
    "        return obj\n",
    "    return inner\n",
    "\n",
    "inner_func = func()\n",
    "gc.collect()\n",
    "print(ref)  # <weakref at ...; to 'TrackedObject' at ...>"
   ]
  },
  {
   "cell_type": "markdown",
   "id": "47e7bd66-6385-4ee0-9bab-79fe2cd95ec7",
   "metadata": {},
   "source": [
    "Now our tracked object is still alive - that's because it is being used by a _closure_ function, which is still accessable."
   ]
  },
  {
   "cell_type": "markdown",
   "id": "d5982746-d95f-455c-b5c1-a9d078a7b641",
   "metadata": {},
   "source": [
    "## Replacing Objects with Closures"
   ]
  },
  {
   "cell_type": "markdown",
   "id": "0973652d-9a82-4284-8a2c-444253f915af",
   "metadata": {},
   "source": [
    "In one of the bonus challenges in his book, Robert Nystorm suggests that objects can actually be replaced by closures. He challenges us to implement a contructor to a Vector object, getters and an addition function - without using `class`, only closures.\n",
    "\n",
    "This is actually pretty cool:"
   ]
  },
  {
   "cell_type": "code",
   "execution_count": 32,
   "id": "db4d725e-8568-40e3-9792-f447351e6c05",
   "metadata": {},
   "outputs": [
    {
     "name": "stdout",
     "output_type": "stream",
     "text": [
      "(5,9)\n"
     ]
    }
   ],
   "source": [
    "def vector(x,y):\n",
    "    def get(i):\n",
    "        return x if i==0 else y\n",
    "    return get\n",
    "\n",
    "def get_x(vec):\n",
    "    return vec(0)\n",
    "    \n",
    "def get_y(vec):\n",
    "    return vec(1)\n",
    "\n",
    "def vector_add(vec1, vec2):\n",
    "    return vector(\n",
    "        get_x(vec1) + get_x(vec2), get_y(vec1) + get_y(vec2)\n",
    "    )\n",
    "\n",
    "def print_vector(vec):\n",
    "    print(f\"({get_x(vec)},{get_y(vec)})\")\n",
    "\n",
    "v1 = vector(1, 2)\n",
    "v2 = vector(4, 7)\n",
    "v_sum = vector_add(v1, v2)\n",
    "print_vector(v_sum)  # (5,9)"
   ]
  },
  {
   "cell_type": "markdown",
   "id": "255b57ee-7db7-405a-bc5b-598fb3d17f22",
   "metadata": {},
   "source": [
    "What else can we do?\n",
    "\n",
    "The first thing that came to my mind was python's dunder methods. Can we implement addition of closure-objects with the `+` operator?\n",
    "\n",
    "With 'normal' python objects, we could to that by implementing an `__add__` method in the class.\n",
    "So, maybe if we add an `__add__` to our closure-objects we could use `+` on them?\n",
    "\n",
    "Fortunately, because functions in python are objects themselves, we can freely add attributes and methods to them, so that's what we're gonna try (this is actually a bit cheating, because we take advantage of python `function` objects even though this post is about replacing objects with closures. However, we can't change python built-ins and it _will_ be awesome if we could add objects with `+`)"
   ]
  },
  {
   "cell_type": "code",
   "execution_count": 34,
   "id": "56498586-8828-4ad4-b088-acd86ab6f9cc",
   "metadata": {},
   "outputs": [
    {
     "ename": "TypeError",
     "evalue": "unsupported operand type(s) for +: 'function' and 'function'",
     "output_type": "error",
     "traceback": [
      "\u001b[1;31m---------------------------------------------------------------------------\u001b[0m",
      "\u001b[1;31mTypeError\u001b[0m                                 Traceback (most recent call last)",
      "Cell \u001b[1;32mIn[34], line 9\u001b[0m\n\u001b[0;32m      7\u001b[0m v1 \u001b[38;5;241m=\u001b[39m addable_vector(\u001b[38;5;241m1\u001b[39m, \u001b[38;5;241m2\u001b[39m)\n\u001b[0;32m      8\u001b[0m v2 \u001b[38;5;241m=\u001b[39m addable_vector(\u001b[38;5;241m4\u001b[39m, \u001b[38;5;241m7\u001b[39m)\n\u001b[1;32m----> 9\u001b[0m v_sum \u001b[38;5;241m=\u001b[39m \u001b[43mv1\u001b[49m\u001b[43m \u001b[49m\u001b[38;5;241;43m+\u001b[39;49m\u001b[43m \u001b[49m\u001b[43mv2\u001b[49m\n\u001b[0;32m     10\u001b[0m print_vector(v_sum)\n",
      "\u001b[1;31mTypeError\u001b[0m: unsupported operand type(s) for +: 'function' and 'function'"
     ]
    }
   ],
   "source": [
    "def addable_vector(x,y):\n",
    "    def get(i):\n",
    "        return x if i==0 else y\n",
    "    get.__add__ = vector_add \n",
    "    return get\n",
    "\n",
    "v1 = addable_vector(1, 2)\n",
    "v2 = addable_vector(4, 7)\n",
    "v_sum = v1 + v2\n",
    "print_vector(v_sum)"
   ]
  },
  {
   "cell_type": "markdown",
   "id": "14d7a4f5-519b-497b-b8d2-cb0597f138d2",
   "metadata": {},
   "source": [
    "That prints the following error:\n",
    "\n",
    "_TypeError: unsupported operand type(s) for +: 'function' and 'function'_\n",
    "\n",
    "Well, that happens because when we do `v1 + v2` what python really does is `type(v1).__add__(v2)` rather than call `__add__` on the `v1` instance itself.\n",
    "`type(v1)` is a `function`, which doesn't have `__add__` so we get an \"unsupported\" error.\n",
    "\n",
    "Why don't we add our `__add__` method to `function` then?"
   ]
  },
  {
   "cell_type": "code",
   "execution_count": 40,
   "id": "b755d755-ace0-4a44-b999-ade6295a5693",
   "metadata": {},
   "outputs": [
    {
     "ename": "TypeError",
     "evalue": "cannot set '__add__' attribute of immutable type 'function'",
     "output_type": "error",
     "traceback": [
      "\u001b[1;31m---------------------------------------------------------------------------\u001b[0m",
      "\u001b[1;31mTypeError\u001b[0m                                 Traceback (most recent call last)",
      "Cell \u001b[1;32mIn[40], line 7\u001b[0m\n\u001b[0;32m      4\u001b[0m     get\u001b[38;5;241m.\u001b[39m\u001b[38;5;18m__class__\u001b[39m\u001b[38;5;241m.\u001b[39m\u001b[38;5;21m__add__\u001b[39m \u001b[38;5;241m=\u001b[39m vector_add \n\u001b[0;32m      5\u001b[0m     \u001b[38;5;28;01mreturn\u001b[39;00m get\n\u001b[1;32m----> 7\u001b[0m v1 \u001b[38;5;241m=\u001b[39m \u001b[43maddable_vector\u001b[49m\u001b[43m(\u001b[49m\u001b[38;5;241;43m1\u001b[39;49m\u001b[43m,\u001b[49m\u001b[43m \u001b[49m\u001b[38;5;241;43m2\u001b[39;49m\u001b[43m)\u001b[49m\n\u001b[0;32m      8\u001b[0m v2 \u001b[38;5;241m=\u001b[39m addable_vector(\u001b[38;5;241m4\u001b[39m, \u001b[38;5;241m7\u001b[39m)\n\u001b[0;32m      9\u001b[0m v_sum \u001b[38;5;241m=\u001b[39m v1 \u001b[38;5;241m+\u001b[39m v2\n",
      "Cell \u001b[1;32mIn[40], line 4\u001b[0m, in \u001b[0;36maddable_vector\u001b[1;34m(x, y)\u001b[0m\n\u001b[0;32m      2\u001b[0m \u001b[38;5;28;01mdef\u001b[39;00m \u001b[38;5;21mget\u001b[39m(i):\n\u001b[0;32m      3\u001b[0m     \u001b[38;5;28;01mreturn\u001b[39;00m x \u001b[38;5;28;01mif\u001b[39;00m i\u001b[38;5;241m==\u001b[39m\u001b[38;5;241m0\u001b[39m \u001b[38;5;28;01melse\u001b[39;00m y\n\u001b[1;32m----> 4\u001b[0m \u001b[43mget\u001b[49m\u001b[38;5;241;43m.\u001b[39;49m\u001b[38;5;18;43m__class__\u001b[39;49m\u001b[38;5;241;43m.\u001b[39;49m\u001b[38;5;21;43m__add__\u001b[39;49m \u001b[38;5;241m=\u001b[39m vector_add \n\u001b[0;32m      5\u001b[0m \u001b[38;5;28;01mreturn\u001b[39;00m get\n",
      "\u001b[1;31mTypeError\u001b[0m: cannot set '__add__' attribute of immutable type 'function'"
     ]
    }
   ],
   "source": [
    "def addable_vector(x,y):\n",
    "    def get(i):\n",
    "        return x if i==0 else y\n",
    "    get.__class__.__add__ = vector_add \n",
    "    return get\n",
    "\n",
    "v1 = addable_vector(1, 2)\n",
    "v2 = addable_vector(4, 7)\n",
    "v_sum = v1 + v2\n",
    "print_vector(v_sum)"
   ]
  },
  {
   "cell_type": "markdown",
   "id": "b54e8593-0ed7-4b86-a110-99a88c437a51",
   "metadata": {},
   "source": [
    "Now we get:\n",
    "\n",
    "_TypeError: cannot set '\\_\\_add\\_\\_' attribute of immutable type 'function'_\r\n",
    "\n",
    "We have reached a dead end - the designers of python have decided that `function` is an immutable type, and therefore we cannot add dunder methods like normal objects.\n"
   ]
  },
  {
   "cell_type": "markdown",
   "id": "f8aad563-4a12-4561-9cd6-22ff9b564551",
   "metadata": {},
   "source": [
    "- No doubt this is less readable than objects\n",
    "- It is probably weaker, in the sense that we can't add dunder methods (class of closure is always `function`)\n",
    "- What *is* it good for? need to check memory and runtime of this, compared to regular objects"
   ]
  },
  {
   "cell_type": "code",
   "execution_count": 45,
   "id": "35f9b0d1-31b4-4afb-86a7-c45508babc5a",
   "metadata": {},
   "outputs": [
    {
     "data": {
      "text/plain": [
       "160"
      ]
     },
     "execution_count": 45,
     "metadata": {},
     "output_type": "execute_result"
    }
   ],
   "source": [
    "import sys\n",
    "\n",
    "v1 = vector(1,2)\n",
    "sys.getsizeof(v1)"
   ]
  },
  {
   "cell_type": "code",
   "execution_count": 48,
   "id": "bede50a3-c68b-4f4b-b910-74dccb31065c",
   "metadata": {},
   "outputs": [
    {
     "name": "stdout",
     "output_type": "stream",
     "text": [
      "(5,9)\n"
     ]
    },
    {
     "data": {
      "text/plain": [
       "48"
      ]
     },
     "execution_count": 48,
     "metadata": {},
     "output_type": "execute_result"
    }
   ],
   "source": [
    "class Vector:\n",
    "    def __init__(self,x,y):\n",
    "        self.x = x\n",
    "        self.y = y\n",
    "\n",
    "    def vector_add(self, other):\n",
    "        return self.__class__(self.x+other.x, self.y+other.y)\n",
    "\n",
    "    def print_vector(self):\n",
    "        print(f\"({self.x},{self.y})\")\n",
    "\n",
    "\n",
    "v1 = Vector(1,2)\n",
    "v2 = Vector(4,7)\n",
    "v_sum = v1.vector_add(v2)\n",
    "v_sum.print_vector()\n",
    "sys.getsizeof(v1)"
   ]
  },
  {
   "cell_type": "code",
   "execution_count": null,
   "id": "e69379b3-797d-4366-9f47-bbff4e200283",
   "metadata": {},
   "outputs": [],
   "source": [
    "class Fund:\n",
    "    def __init__(self, annual_profit):\n",
    "        self._annual_profit = annual_profit\n",
    "\n",
    "    @property.getter\n",
    "    def annual_profit(self):\n",
    "        return self._annual_profit\n",
    "\n",
    "    @annual_profit.setter\n",
    "    def annual_profit(self, _):\n",
    "        raise AttributeError(\"Cannot set attribute\")\n",
    "\n",
    "\n",
    "@dataclass\n",
    "class Fund2:\n",
    "    annual_profit: float\n",
    "\n",
    "\n",
    "def fund(annual_profit):\n",
    "    def inner():\n",
    "        return annual_profit\n",
    "    return inner\n",
    "\n"
   ]
  }
 ],
 "metadata": {
  "kernelspec": {
   "display_name": "Python 3 (ipykernel)",
   "language": "python",
   "name": "python3"
  },
  "language_info": {
   "codemirror_mode": {
    "name": "ipython",
    "version": 3
   },
   "file_extension": ".py",
   "mimetype": "text/x-python",
   "name": "python",
   "nbconvert_exporter": "python",
   "pygments_lexer": "ipython3",
   "version": "3.12.0"
  }
 },
 "nbformat": 4,
 "nbformat_minor": 5
}
