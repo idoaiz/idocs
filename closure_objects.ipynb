{
 "cells": [
  {
   "cell_type": "markdown",
   "id": "b5e6f567-5ba5-43b6-ad93-8e0e781193d6",
   "metadata": {},
   "source": [
    "# Closure Objects"
   ]
  },
  {
   "cell_type": "markdown",
   "id": "372fbd02-e62c-4fbb-a9b8-2729146558f7",
   "metadata": {},
   "source": [
    "This post is inspired by Robert Nystorm's excellent book \"Crafting Interpreters\".\n",
    "You can find the original idea in here: https://craftinginterpreters.com/closures.html#challenges"
   ]
  },
  {
   "cell_type": "markdown",
   "id": "adc0ec28-6f36-42d9-86fe-104ab8275211",
   "metadata": {},
   "source": [
    "## Closures"
   ]
  },
  {
   "cell_type": "markdown",
   "id": "c766b186-d04f-499c-b623-247c10aa2454",
   "metadata": {},
   "source": [
    "What is a closure?\n",
    "Usually, a function defines its own scope. Local variables that are created inside the function - cease to exist when the function returns.\n",
    "\n",
    "That \"cease to exist\" means that objects are no longer reachable and they get garbage-collected.\n",
    "I would like to show you that objects inside functions don't exist after the function returns - but how can I demonstrate that i _cannot_ access an object anymore?\n",
    "\n",
    "For that we will use the `weakref` python library, which enables us to hold pointers to objects but doesn't prevent them from getting garbage-collected.\n",
    "When a weakref points to a collected object, it is dramatically announced \"dead\"."
   ]
  },
  {
   "cell_type": "code",
   "execution_count": 1,
   "id": "4c015e83-4bc3-4e72-8bef-13ce6d13ea87",
   "metadata": {
    "editable": true,
    "slideshow": {
     "slide_type": ""
    },
    "tags": []
   },
   "outputs": [
    {
     "name": "stdout",
     "output_type": "stream",
     "text": [
      "<weakref at 0x000002A8D3E86750; dead>\n"
     ]
    }
   ],
   "source": [
    "import gc\n",
    "import weakref\n",
    "\n",
    "class TrackedObject:     \n",
    "    pass\n",
    "\n",
    "def func():\n",
    "    global ref\n",
    "    obj = TrackedObject()\n",
    "    ref = weakref.ref(obj)\n",
    "    return\n",
    "\n",
    "func()\n",
    "gc.collect()\n",
    "print(ref)  # <weakref at ...; dead>"
   ]
  },
  {
   "cell_type": "markdown",
   "id": "da893619-e3da-47b4-b6b5-8e16a5738fd0",
   "metadata": {},
   "source": [
    "See? dead.\n",
    "\n",
    "However, functions can \"close-over\" values from outer scopes - making them live even after the function has returned:"
   ]
  },
  {
   "cell_type": "code",
   "execution_count": 2,
   "id": "ca61308f-2569-4af2-a001-a0a530b574dc",
   "metadata": {},
   "outputs": [
    {
     "name": "stdout",
     "output_type": "stream",
     "text": [
      "<weakref at 0x000002A8D3E0B790; to 'TrackedObject' at 0x000002A8D3DFA6C0>\n"
     ]
    }
   ],
   "source": [
    "def func():\n",
    "    global ref\n",
    "    obj = TrackedObject()\n",
    "    ref = weakref.ref(obj)\n",
    "    def inner():\n",
    "        return obj\n",
    "    return inner\n",
    "\n",
    "inner_func = func()\n",
    "gc.collect()\n",
    "print(ref)  # <weakref at ...; to 'TrackedObject' at ...>"
   ]
  },
  {
   "cell_type": "markdown",
   "id": "47e7bd66-6385-4ee0-9bab-79fe2cd95ec7",
   "metadata": {},
   "source": [
    "Now our tracked object is still alive - that's because it is being used by a _closure_ function, which is still accessable."
   ]
  },
  {
   "cell_type": "markdown",
   "id": "d5982746-d95f-455c-b5c1-a9d078a7b641",
   "metadata": {},
   "source": [
    "## Replacing Objects with Closures"
   ]
  },
  {
   "cell_type": "markdown",
   "id": "0973652d-9a82-4284-8a2c-444253f915af",
   "metadata": {},
   "source": [
    "In one of the bonus challenges in his book, Robert Nystorm suggests that objects can actually be replaced by closures. He challenges us to implement a contructor to a Vector object, getters and an addition function - without using `class`, only closures.\n",
    "\n",
    "This is actually pretty cool:"
   ]
  },
  {
   "cell_type": "code",
   "execution_count": 3,
   "id": "db4d725e-8568-40e3-9792-f447351e6c05",
   "metadata": {},
   "outputs": [
    {
     "name": "stdout",
     "output_type": "stream",
     "text": [
      "(5,9)\n"
     ]
    }
   ],
   "source": [
    "def vector(x,y):\n",
    "    def get(i):\n",
    "        return x if i==0 else y\n",
    "    return get\n",
    "\n",
    "def get_x(vec):\n",
    "    return vec(0)\n",
    "    \n",
    "def get_y(vec):\n",
    "    return vec(1)\n",
    "\n",
    "def vector_add(vec1, vec2):\n",
    "    return vector(\n",
    "        get_x(vec1) + get_x(vec2), get_y(vec1) + get_y(vec2)\n",
    "    )\n",
    "\n",
    "def print_vector(vec):\n",
    "    print(f\"({get_x(vec)},{get_y(vec)})\")\n",
    "\n",
    "v1 = vector(1, 2)\n",
    "v2 = vector(4, 7)\n",
    "v_sum = vector_add(v1, v2)\n",
    "print_vector(v_sum)  # (5,9)"
   ]
  },
  {
   "cell_type": "markdown",
   "id": "255b57ee-7db7-405a-bc5b-598fb3d17f22",
   "metadata": {},
   "source": [
    "What else can we do?\n",
    "\n",
    "The first thing that came to my mind was python's dunder methods. Can we implement addition of closure-objects with the `+` operator?\n",
    "\n",
    "With 'normal' python objects, we could to that by implementing an `__add__` method in the class.\n",
    "So, maybe if we add an `__add__` to our closure-objects we could use `+` on them?\n",
    "\n",
    "Fortunately, because functions in python are objects themselves, we can freely add attributes and methods to them, so that's what we're gonna try (this is actually a bit cheating, because we take advantage of python `function` objects even though this post is about replacing objects with closures. However, we can't change python built-ins and it _will_ be awesome if we could add objects with `+`)"
   ]
  },
  {
   "cell_type": "code",
   "execution_count": 4,
   "id": "56498586-8828-4ad4-b088-acd86ab6f9cc",
   "metadata": {},
   "outputs": [
    {
     "ename": "TypeError",
     "evalue": "unsupported operand type(s) for +: 'function' and 'function'",
     "output_type": "error",
     "traceback": [
      "\u001b[1;31m---------------------------------------------------------------------------\u001b[0m",
      "\u001b[1;31mTypeError\u001b[0m                                 Traceback (most recent call last)",
      "Cell \u001b[1;32mIn[4], line 9\u001b[0m\n\u001b[0;32m      7\u001b[0m v1 \u001b[38;5;241m=\u001b[39m addable_vector(\u001b[38;5;241m1\u001b[39m, \u001b[38;5;241m2\u001b[39m)\n\u001b[0;32m      8\u001b[0m v2 \u001b[38;5;241m=\u001b[39m addable_vector(\u001b[38;5;241m4\u001b[39m, \u001b[38;5;241m7\u001b[39m)\n\u001b[1;32m----> 9\u001b[0m v_sum \u001b[38;5;241m=\u001b[39m \u001b[43mv1\u001b[49m\u001b[43m \u001b[49m\u001b[38;5;241;43m+\u001b[39;49m\u001b[43m \u001b[49m\u001b[43mv2\u001b[49m\n\u001b[0;32m     10\u001b[0m print_vector(v_sum)\n",
      "\u001b[1;31mTypeError\u001b[0m: unsupported operand type(s) for +: 'function' and 'function'"
     ]
    }
   ],
   "source": [
    "def addable_vector(x,y):\n",
    "    def get(i):\n",
    "        return x if i==0 else y\n",
    "    get.__add__ = vector_add \n",
    "    return get\n",
    "\n",
    "v1 = addable_vector(1, 2)\n",
    "v2 = addable_vector(4, 7)\n",
    "v_sum = v1 + v2\n",
    "print_vector(v_sum)"
   ]
  },
  {
   "cell_type": "markdown",
   "id": "14d7a4f5-519b-497b-b8d2-cb0597f138d2",
   "metadata": {},
   "source": [
    "That prints the following error:\n",
    "\n",
    "_TypeError: unsupported operand type(s) for +: 'function' and 'function'_\n",
    "\n",
    "Well, that happens because when we do `v1 + v2` what python really does is `type(v1).__add__(v2)` rather than call `__add__` on the `v1` instance itself.\n",
    "`type(v1)` is a `function`, which doesn't have `__add__` so we get an \"unsupported\" error.\n",
    "\n",
    "Why don't we add our `__add__` method to `function` then?"
   ]
  },
  {
   "cell_type": "code",
   "execution_count": 5,
   "id": "b755d755-ace0-4a44-b999-ade6295a5693",
   "metadata": {},
   "outputs": [
    {
     "ename": "TypeError",
     "evalue": "cannot set '__add__' attribute of immutable type 'function'",
     "output_type": "error",
     "traceback": [
      "\u001b[1;31m---------------------------------------------------------------------------\u001b[0m",
      "\u001b[1;31mTypeError\u001b[0m                                 Traceback (most recent call last)",
      "Cell \u001b[1;32mIn[5], line 7\u001b[0m\n\u001b[0;32m      4\u001b[0m     get\u001b[38;5;241m.\u001b[39m\u001b[38;5;18m__class__\u001b[39m\u001b[38;5;241m.\u001b[39m\u001b[38;5;21m__add__\u001b[39m \u001b[38;5;241m=\u001b[39m vector_add \n\u001b[0;32m      5\u001b[0m     \u001b[38;5;28;01mreturn\u001b[39;00m get\n\u001b[1;32m----> 7\u001b[0m v1 \u001b[38;5;241m=\u001b[39m \u001b[43maddable_vector\u001b[49m\u001b[43m(\u001b[49m\u001b[38;5;241;43m1\u001b[39;49m\u001b[43m,\u001b[49m\u001b[43m \u001b[49m\u001b[38;5;241;43m2\u001b[39;49m\u001b[43m)\u001b[49m\n\u001b[0;32m      8\u001b[0m v2 \u001b[38;5;241m=\u001b[39m addable_vector(\u001b[38;5;241m4\u001b[39m, \u001b[38;5;241m7\u001b[39m)\n\u001b[0;32m      9\u001b[0m v_sum \u001b[38;5;241m=\u001b[39m v1 \u001b[38;5;241m+\u001b[39m v2\n",
      "Cell \u001b[1;32mIn[5], line 4\u001b[0m, in \u001b[0;36maddable_vector\u001b[1;34m(x, y)\u001b[0m\n\u001b[0;32m      2\u001b[0m \u001b[38;5;28;01mdef\u001b[39;00m \u001b[38;5;21mget\u001b[39m(i):\n\u001b[0;32m      3\u001b[0m     \u001b[38;5;28;01mreturn\u001b[39;00m x \u001b[38;5;28;01mif\u001b[39;00m i\u001b[38;5;241m==\u001b[39m\u001b[38;5;241m0\u001b[39m \u001b[38;5;28;01melse\u001b[39;00m y\n\u001b[1;32m----> 4\u001b[0m \u001b[43mget\u001b[49m\u001b[38;5;241;43m.\u001b[39;49m\u001b[38;5;18;43m__class__\u001b[39;49m\u001b[38;5;241;43m.\u001b[39;49m\u001b[38;5;21;43m__add__\u001b[39;49m \u001b[38;5;241m=\u001b[39m vector_add \n\u001b[0;32m      5\u001b[0m \u001b[38;5;28;01mreturn\u001b[39;00m get\n",
      "\u001b[1;31mTypeError\u001b[0m: cannot set '__add__' attribute of immutable type 'function'"
     ]
    }
   ],
   "source": [
    "def addable_vector(x,y):\n",
    "    def get(i):\n",
    "        return x if i==0 else y\n",
    "    get.__class__.__add__ = vector_add \n",
    "    return get\n",
    "\n",
    "v1 = addable_vector(1, 2)\n",
    "v2 = addable_vector(4, 7)\n",
    "v_sum = v1 + v2\n",
    "print_vector(v_sum)"
   ]
  },
  {
   "cell_type": "markdown",
   "id": "b54e8593-0ed7-4b86-a110-99a88c437a51",
   "metadata": {},
   "source": [
    "Now we get:\n",
    "\n",
    "_TypeError: cannot set '\\_\\_add\\_\\_' attribute of immutable type 'function'_\r\n",
    "\n",
    "We have reached a dead end - the designers of python have decided that `function` is an immutable type, and therefore we cannot add dunder methods like normal objects.\n"
   ]
  },
  {
   "cell_type": "markdown",
   "id": "80353378-d0e8-444d-bcef-1554a288dbdd",
   "metadata": {},
   "source": [
    "## Playing with Time & Space\n",
    "\n",
    "No doubt that defining objects as closures is less readable than using the traditional `class`.\n",
    "Closure-objects are also more limited than objects because we can't implement dunder methods to them.\n",
    "The next question we should ask ourselves is - are they more efficient than objects?\n",
    "\n",
    "\n",
    "Let's start by measuring the size of closure-objects.\n",
    "For reference, we implement a class version of our vector:"
   ]
  },
  {
   "cell_type": "code",
   "execution_count": 6,
   "id": "bede50a3-c68b-4f4b-b910-74dccb31065c",
   "metadata": {},
   "outputs": [],
   "source": [
    "class Vector:\n",
    "    def __init__(self,x,y):\n",
    "        self.x = x\n",
    "        self.y = y\n",
    "\n",
    "    def vector_add(self, other):\n",
    "        return self.__class__(self.x+other.x, self.y+other.y)\n",
    "\n",
    "    def print_vector(self):\n",
    "        print(f\"({self.x},{self.y})\")"
   ]
  },
  {
   "cell_type": "markdown",
   "id": "229889aa-ec2c-4c8e-93dc-83bb749a520b",
   "metadata": {},
   "source": [
    "Now let's compare the size in bytes using `sys.getsizeof()`:"
   ]
  },
  {
   "cell_type": "code",
   "execution_count": 7,
   "id": "2fcc0840-72eb-482e-b048-0ffd84c37141",
   "metadata": {},
   "outputs": [
    {
     "name": "stdout",
     "output_type": "stream",
     "text": [
      "160\n",
      "48\n"
     ]
    }
   ],
   "source": [
    "import sys\n",
    "\n",
    "closure_vec = vector(1,2)\n",
    "object_vec=  Vector(1,2)\n",
    "\n",
    "print(sys.getsizeof(closure_vec))  # 160\n",
    "print(sys.getsizeof(object_vec))  # 48"
   ]
  },
  {
   "cell_type": "markdown",
   "id": "8aa57482-899e-4e0f-b3b1-c69bb73894e8",
   "metadata": {},
   "source": [
    "Wow!\n",
    "\n",
    "The closure-object is more than *3* times bigger than the regular object! Why is that? \n",
    "\n",
    "This is the point to clarify something important about `sys.getsizeof()`.\n",
    "To properly compare the memory consumption of closures and objects we would need a deep dive into how memory is managed inside CPython, the python C compiler - but I feel like it will divert us very far from the main subject of this notebook.\n",
    "Therefore, we are doing some vanilla memory comparison by using `sys.getsizeof()`.\n",
    "This function gives us only the size of the object reference (I would say 'pointer', but it feels weird to use 'pointer' when writing about python).\n",
    "The size of an object we see when using `sys.getsizeof()` is merely the size of the references it holds to internal attributes; these can be viewed by `dir`-ing an object:"
   ]
  },
  {
   "cell_type": "code",
   "execution_count": 100,
   "id": "bd435530-8a7a-4085-815a-d232b31aff9a",
   "metadata": {
    "scrolled": true
   },
   "outputs": [
    {
     "data": {
      "text/plain": [
       "['__class__',\n",
       " '__delattr__',\n",
       " '__dict__',\n",
       " '__dir__',\n",
       " '__doc__',\n",
       " '__eq__',\n",
       " '__format__',\n",
       " '__ge__',\n",
       " '__getattribute__',\n",
       " '__getstate__',\n",
       " '__gt__',\n",
       " '__hash__',\n",
       " '__init__',\n",
       " '__init_subclass__',\n",
       " '__le__',\n",
       " '__lt__',\n",
       " '__module__',\n",
       " '__ne__',\n",
       " '__new__',\n",
       " '__reduce__',\n",
       " '__reduce_ex__',\n",
       " '__repr__',\n",
       " '__setattr__',\n",
       " '__sizeof__',\n",
       " '__str__',\n",
       " '__subclasshook__',\n",
       " '__weakref__',\n",
       " 'print_vector',\n",
       " 'vector_add',\n",
       " 'x',\n",
       " 'y']"
      ]
     },
     "execution_count": 100,
     "metadata": {},
     "output_type": "execute_result"
    }
   ],
   "source": [
    "dir(object_vec)"
   ]
  },
  {
   "cell_type": "markdown",
   "id": "b4c341b5-6e37-4977-ac61-7bd9245241b8",
   "metadata": {},
   "source": [
    "We can see a long list of dunders - these are the object's internal attributes, and in the end the methods and attributes we have defined in the `Vector` class.\n",
    "\n",
    "To prove my point, we can see that the size of the object's `__dict__` which stores its attributes is already bigger than the \"object\" size we got when using `sys.getsizeof()` on the object itself:"
   ]
  },
  {
   "cell_type": "code",
   "execution_count": 103,
   "id": "564a5791-0b30-45af-9dea-1a344629e423",
   "metadata": {},
   "outputs": [
    {
     "data": {
      "text/plain": [
       "296"
      ]
     },
     "execution_count": 103,
     "metadata": {},
     "output_type": "execute_result"
    }
   ],
   "source": [
    "sys.getsizeof(object_vec.__dict__)"
   ]
  },
  {
   "cell_type": "markdown",
   "id": "cc15fb9a-980a-4dd8-8feb-2dc2afd6700c",
   "metadata": {},
   "source": [
    "This means that the size of an object we see with `sys.getsizeof()` depends on which internal attributes the object contains.\n",
    "\n",
    "Let's see which attributes can be blamed for extra weight for our closure-object:"
   ]
  },
  {
   "cell_type": "code",
   "execution_count": 110,
   "id": "350d3fac-c627-46c2-99ab-cef8ecae92ae",
   "metadata": {},
   "outputs": [
    {
     "data": {
      "text/plain": [
       "{'__annotations__',\n",
       " '__builtins__',\n",
       " '__call__',\n",
       " '__closure__',\n",
       " '__code__',\n",
       " '__defaults__',\n",
       " '__get__',\n",
       " '__globals__',\n",
       " '__kwdefaults__',\n",
       " '__name__',\n",
       " '__qualname__',\n",
       " '__type_params__'}"
      ]
     },
     "execution_count": 110,
     "metadata": {},
     "output_type": "execute_result"
    }
   ],
   "source": [
    "object_attrs = dir(object_vec)\n",
    "closure_attrs = dir(closure_vec)\n",
    "set(closure_attrs) - set(object_attrs)"
   ]
  },
  {
   "cell_type": "markdown",
   "id": "7a3e4a18-e87b-4954-be5f-645e881d5a01",
   "metadata": {},
   "source": [
    "Most of these attributes are general, boring references or methods \n",
    "\n",
    "% TODO - write about how object attrs are stored in `__dict__` but closure's are nowhere to be found; we re-discover them at `.__closure__[i].cell_contents`"
   ]
  },
  {
   "cell_type": "code",
   "execution_count": 120,
   "id": "9a3e7721-0a0d-4efa-99e6-18ca68c300e4",
   "metadata": {},
   "outputs": [
    {
     "data": {
      "text/plain": [
       "40"
      ]
     },
     "execution_count": 120,
     "metadata": {},
     "output_type": "execute_result"
    }
   ],
   "source": [
    "sys.getsizeof(closure_vec.__closure__[1])\n",
    "# print(closure_vec.__closure__[1].cell_contents)"
   ]
  },
  {
   "cell_type": "code",
   "execution_count": 9,
   "id": "5a565657-0da1-4962-b4af-6692ef144369",
   "metadata": {},
   "outputs": [
    {
     "data": {
      "text/plain": [
       "160"
      ]
     },
     "execution_count": 9,
     "metadata": {},
     "output_type": "execute_result"
    }
   ],
   "source": [
    "many_kwargs = {'a'+str(i):i for i in range(100000)}\n",
    "\n",
    "def closure_object(**kwargs):\n",
    "    def get(i):\n",
    "        return list(kwargs.values())[i]\n",
    "    return get\n",
    "\n",
    "class RegularObject:\n",
    "    def __init__(self, **kwargs):\n",
    "        for k,v in kwargs.items():\n",
    "            setattr(self, k, v)"
   ]
  },
  {
   "cell_type": "code",
   "execution_count": 12,
   "id": "16933f13-16e1-4801-96c3-3e6f70af74bc",
   "metadata": {},
   "outputs": [],
   "source": [
    "def show_size(obj):\n",
    "    for attr_name in dir(obj):\n",
    "        if attr_name.startswith(\"__\"):\n",
    "            attr = getattr(obj, attr_name)\n",
    "            print(attr_name, sys.getsizeof(attr))"
   ]
  },
  {
   "cell_type": "code",
   "execution_count": 78,
   "id": "93e0ee5e-5055-4ee5-9b76-032303e468ef",
   "metadata": {
    "scrolled": true
   },
   "outputs": [
    {
     "name": "stdout",
     "output_type": "stream",
     "text": [
      "{'__annotations__', '__closure__', '__globals__', '__name__', '__qualname__', '__builtins__', '__code__', '__defaults__', '__kwdefaults__', '__type_params__', '__get__', '__call__'}\n",
      "__annotations__ 64\n",
      "__builtins__ 6576\n",
      "__call__ 48\n",
      "__class__ 432\n",
      "__closure__ 48\n",
      "__code__ 256\n",
      "__defaults__ 16\n",
      "__delattr__ 48\n",
      "__dict__ 64\n",
      "__dir__ 72\n",
      "__doc__ 16\n",
      "__eq__ 48\n",
      "__format__ 72\n",
      "__ge__ 48\n",
      "__get__ 48\n",
      "__getattribute__ 48\n",
      "__getstate__ 72\n",
      "__globals__ 6576\n",
      "__gt__ 48\n",
      "__hash__ 48\n",
      "__init__ 48\n",
      "__init_subclass__ 72\n",
      "__kwdefaults__ 16\n",
      "__le__ 48\n",
      "__lt__ 48\n",
      "__module__ 49\n",
      "__name__ 44\n",
      "__ne__ 48\n",
      "__new__ 72\n",
      "__qualname__ 68\n",
      "__reduce__ 72\n",
      "__reduce_ex__ 72\n",
      "__repr__ 48\n",
      "__setattr__ 48\n",
      "__sizeof__ 72\n",
      "__str__ 48\n",
      "__subclasshook__ 72\n",
      "__type_params__ 40\n",
      "***************************\n",
      "__class__ 1704\n",
      "__delattr__ 48\n",
      "__dict__ 3844864\n",
      "__dir__ 72\n",
      "__doc__ 16\n",
      "__eq__ 48\n",
      "__format__ 72\n",
      "__ge__ 48\n",
      "__getattribute__ 48\n",
      "__getstate__ 72\n",
      "__gt__ 48\n",
      "__hash__ 48\n",
      "__init__ 64\n",
      "__init_subclass__ 72\n",
      "__le__ 48\n",
      "__lt__ 48\n",
      "__module__ 49\n",
      "__ne__ 48\n",
      "__new__ 72\n",
      "__reduce__ 72\n",
      "__reduce_ex__ 72\n",
      "__repr__ 48\n",
      "__setattr__ 48\n",
      "__sizeof__ 72\n",
      "__str__ 48\n",
      "__subclasshook__ 72\n",
      "__weakref__ 16\n"
     ]
    }
   ],
   "source": [
    "c = closure_object(**many_kwargs)\n",
    "o = RegularObject(**many_kwargs)\n",
    "\n",
    "delta = set(dir(c)) - set(dir(o))\n",
    "print(delta)\n",
    "\n",
    "show_size(c)\n",
    "print(\"***************************\")\n",
    "show_size(o)"
   ]
  },
  {
   "cell_type": "code",
   "execution_count": 92,
   "id": "db5994b3-4b7c-4fc1-a0ae-de669dba38d9",
   "metadata": {},
   "outputs": [
    {
     "name": "stdout",
     "output_type": "stream",
     "text": [
      "48\n",
      "<method-wrapper '__get__' of function object at 0x000002A8D6EA51C0>\n"
     ]
    }
   ],
   "source": [
    "attr_name = \"__get__\"\n",
    "attr = getattr(c, attr_name)\n",
    "print(sys.getsizeof(attr))\n",
    "print(attr)"
   ]
  },
  {
   "cell_type": "code",
   "execution_count": 25,
   "id": "54ccbc68-4053-4914-be65-49aeeb8bd239",
   "metadata": {},
   "outputs": [],
   "source": [
    "def total_size(obj):\n",
    "    return sum([sys.getsizeof(getattr(obj,attr)) for attr in dir(obj)])\n",
    "\n",
    "# print(total_size(closure_vec))\n",
    "# print(total_size(Vector))\n",
    "# print(total_size(some_very_long_name(1,2)))\n",
    "# print(total_size(some_very_long_name))"
   ]
  },
  {
   "cell_type": "code",
   "execution_count": null,
   "id": "390d59bf-000c-4d9a-b70e-b934d9a82c35",
   "metadata": {},
   "outputs": [],
   "source": []
  },
  {
   "cell_type": "markdown",
   "id": "f8aad563-4a12-4561-9cd6-22ff9b564551",
   "metadata": {},
   "source": [
    "- No doubt this is less readable than objects\n",
    "- It is probably weaker, in the sense that we can't add dunder methods (class of closure is always `function`)\n",
    "- What *is* it good for? need to check memory and runtime of this, compared to regular objects"
   ]
  },
  {
   "cell_type": "code",
   "execution_count": 93,
   "id": "35f9b0d1-31b4-4afb-86a7-c45508babc5a",
   "metadata": {},
   "outputs": [
    {
     "data": {
      "text/plain": [
       "160"
      ]
     },
     "execution_count": 93,
     "metadata": {},
     "output_type": "execute_result"
    }
   ],
   "source": [
    "def func():\n",
    "    return \n",
    "\n",
    "sys.getsizeof(func)"
   ]
  },
  {
   "cell_type": "code",
   "execution_count": null,
   "id": "02339aa0-2921-48a3-8ba1-444190896e21",
   "metadata": {},
   "outputs": [],
   "source": []
  }
 ],
 "metadata": {
  "kernelspec": {
   "display_name": "Python 3 (ipykernel)",
   "language": "python",
   "name": "python3"
  },
  "language_info": {
   "codemirror_mode": {
    "name": "ipython",
    "version": 3
   },
   "file_extension": ".py",
   "mimetype": "text/x-python",
   "name": "python",
   "nbconvert_exporter": "python",
   "pygments_lexer": "ipython3",
   "version": "3.12.0"
  }
 },
 "nbformat": 4,
 "nbformat_minor": 5
}
