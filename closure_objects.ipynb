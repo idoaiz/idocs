{
 "cells": [
  {
   "cell_type": "markdown",
   "id": "b5e6f567-5ba5-43b6-ad93-8e0e781193d6",
   "metadata": {},
   "source": [
    "# Closure Objects"
   ]
  },
  {
   "cell_type": "markdown",
   "id": "372fbd02-e62c-4fbb-a9b8-2729146558f7",
   "metadata": {},
   "source": [
    "This notebook is inspired by Robert Nystorm's excellent book \"Crafting Interpreters\".\n",
    "You can find the question that inspired the idea in here: https://craftinginterpreters.com/closures.html#challenges"
   ]
  },
  {
   "cell_type": "markdown",
   "id": "adc0ec28-6f36-42d9-86fe-104ab8275211",
   "metadata": {},
   "source": [
    "## Closures"
   ]
  },
  {
   "cell_type": "markdown",
   "id": "c766b186-d04f-499c-b623-247c10aa2454",
   "metadata": {},
   "source": [
    "What is a closure?\n",
    "Usually, a function defines its own scope. Local variables that are created inside the function - cease to exist when the function returns.\n",
    "\n",
    "That \"cease to exist\" means that objects are no longer reachable and they get garbage-collected.\n",
    "I want to show you that objects inside functions don't exist after the function returns - but how can I demonstrate that I _cannot_ access an object anymore?\n",
    "\n",
    "For that we will use the `weakref` Python library, which enables us to hold pointers to objects but doesn't prevent them from getting garbage-collected.\n",
    "When a weakref points to a collected object, it says that the object is \"dead\"."
   ]
  },
  {
   "cell_type": "code",
   "execution_count": 1,
   "id": "4c015e83-4bc3-4e72-8bef-13ce6d13ea87",
   "metadata": {
    "editable": true,
    "slideshow": {
     "slide_type": ""
    },
    "tags": []
   },
   "outputs": [
    {
     "name": "stdout",
     "output_type": "stream",
     "text": [
      "<weakref at 0x000001DEF9C35E90; dead>\n"
     ]
    }
   ],
   "source": [
    "import gc\n",
    "import weakref\n",
    "\n",
    "# Creating a minimal object we can track\n",
    "class TrackedObject:     \n",
    "    pass\n",
    "\n",
    "def func():\n",
    "    global ref  # we'll want to see the value of `ref` after the function ends\n",
    "    obj = TrackedObject()\n",
    "    ref = weakref.ref(obj)\n",
    "    return\n",
    "\n",
    "func()\n",
    "gc.collect()  # force garbage collection so `obj` gets collected\n",
    "print(ref)"
   ]
  },
  {
   "cell_type": "markdown",
   "id": "da893619-e3da-47b4-b6b5-8e16a5738fd0",
   "metadata": {},
   "source": [
    "However, functions can \"close-over\" values from outer scopes - making them live even after the function has returned:"
   ]
  },
  {
   "cell_type": "code",
   "execution_count": 2,
   "id": "ca61308f-2569-4af2-a001-a0a530b574dc",
   "metadata": {},
   "outputs": [
    {
     "name": "stdout",
     "output_type": "stream",
     "text": [
      "<weakref at 0x000001DEF9C361B0; to 'TrackedObject' at 0x000001DEFB4652E0>\n"
     ]
    }
   ],
   "source": [
    "def func():\n",
    "    global ref\n",
    "    obj = TrackedObject()\n",
    "    ref = weakref.ref(obj)\n",
    "    def inner():\n",
    "        return obj  # closes over `obj` from outer scope\n",
    "    return inner\n",
    "\n",
    "inner_func = func()\n",
    "gc.collect()\n",
    "print(ref)"
   ]
  },
  {
   "cell_type": "markdown",
   "id": "47e7bd66-6385-4ee0-9bab-79fe2cd95ec7",
   "metadata": {},
   "source": [
    "Now our tracked object is still alive - that's because it is being used by a _closure_ function, which is still accessible."
   ]
  },
  {
   "cell_type": "markdown",
   "id": "d5982746-d95f-455c-b5c1-a9d078a7b641",
   "metadata": {},
   "source": [
    "## Replacing Objects with Closures"
   ]
  },
  {
   "cell_type": "markdown",
   "id": "0973652d-9a82-4284-8a2c-444253f915af",
   "metadata": {},
   "source": [
    "In one of the bonus challenges in his book, Robert Nystorm suggests that objects can actually be replaced by closures. He challenges us to implement a constructor to a Vector object, getter functions and addition function - without using `class`, only closures.\n",
    "\n",
    "This is actually pretty cool:"
   ]
  },
  {
   "cell_type": "code",
   "execution_count": 3,
   "id": "db4d725e-8568-40e3-9792-f447351e6c05",
   "metadata": {},
   "outputs": [
    {
     "name": "stdout",
     "output_type": "stream",
     "text": [
      "(5,9)\n"
     ]
    }
   ],
   "source": [
    "def vector(x,y):\n",
    "    def get(i):\n",
    "        return x if i==0 else y\n",
    "    return get\n",
    "\n",
    "def get_x(vec):\n",
    "    return vec(0)\n",
    "    \n",
    "def get_y(vec):\n",
    "    return vec(1)\n",
    "\n",
    "def vector_add(vec1, vec2):\n",
    "    return vector(\n",
    "        get_x(vec1) + get_x(vec2), get_y(vec1) + get_y(vec2)\n",
    "    )\n",
    "\n",
    "def print_vector(vec):\n",
    "    print(f\"({get_x(vec)},{get_y(vec)})\")\n",
    "\n",
    "v1 = vector(1,2)\n",
    "v2 = vector(4,7)\n",
    "v_sum = vector_add(v1,v2)\n",
    "print_vector(v_sum)"
   ]
  },
  {
   "cell_type": "markdown",
   "id": "255b57ee-7db7-405a-bc5b-598fb3d17f22",
   "metadata": {},
   "source": [
    "What else can we do?\n",
    "\n",
    "The first thing that came to my mind was dunder methods. Can we implement addition of closure-objects using the `+` operator?\n",
    "\n",
    "With 'normal' Python objects, we could do that by implementing an `__add__` method in the class.\n",
    "So, maybe if we add an `__add__` to our closure-objects we could use `+` on them?\n",
    "\n",
    "Fortunately, because functions in Python are objects themselves, we can freely add attributes and methods to them, so that's what we're gonna try.\n",
    "\n",
    "(this is actually a bit cheating, because a function in Python is actually an object - and our goal is to replace objects with closures.\n",
    "However, it _will_ be awesome if we could add objects with `+`, so it's worth a try)"
   ]
  },
  {
   "cell_type": "code",
   "execution_count": 4,
   "id": "56498586-8828-4ad4-b088-acd86ab6f9cc",
   "metadata": {},
   "outputs": [
    {
     "ename": "TypeError",
     "evalue": "unsupported operand type(s) for +: 'function' and 'function'",
     "output_type": "error",
     "traceback": [
      "\u001b[31m---------------------------------------------------------------------------\u001b[39m",
      "\u001b[31mTypeError\u001b[39m                                 Traceback (most recent call last)",
      "\u001b[36mCell\u001b[39m\u001b[36m \u001b[39m\u001b[32mIn[4]\u001b[39m\u001b[32m, line 9\u001b[39m\n\u001b[32m      7\u001b[39m v1 = addable_vector(\u001b[32m1\u001b[39m,\u001b[32m2\u001b[39m)\n\u001b[32m      8\u001b[39m v2 = addable_vector(\u001b[32m4\u001b[39m,\u001b[32m7\u001b[39m)\n\u001b[32m----> \u001b[39m\u001b[32m9\u001b[39m v_sum = \u001b[43mv1\u001b[49m\u001b[43m \u001b[49m\u001b[43m+\u001b[49m\u001b[43m \u001b[49m\u001b[43mv2\u001b[49m\n\u001b[32m     10\u001b[39m print_vector(v_sum)\n",
      "\u001b[31mTypeError\u001b[39m: unsupported operand type(s) for +: 'function' and 'function'"
     ]
    }
   ],
   "source": [
    "def addable_vector(x,y):\n",
    "    def get(i):\n",
    "        return x if i==0 else y\n",
    "    get.__add__ = vector_add \n",
    "    return get\n",
    "\n",
    "v1 = addable_vector(1,2)\n",
    "v2 = addable_vector(4,7)\n",
    "v_sum = v1 + v2\n",
    "print_vector(v_sum)"
   ]
  },
  {
   "cell_type": "markdown",
   "id": "14d7a4f5-519b-497b-b8d2-cb0597f138d2",
   "metadata": {},
   "source": [
    "Well, that didn't work... we have to dig deeper.\n",
    "\n",
    "When we do `v1 + v2` what Python really does behind the scenes is `type(v1).__add__(v2)`, and not `v1.__add__(v2)`.\n",
    "`type(v1)` is a `function`, which doesn't have `__add__` so we get an \"unsupported\" error.\n",
    "\n",
    "Why don't we add our `__add__` method to `function` then?"
   ]
  },
  {
   "cell_type": "code",
   "execution_count": 5,
   "id": "b755d755-ace0-4a44-b999-ade6295a5693",
   "metadata": {},
   "outputs": [
    {
     "ename": "TypeError",
     "evalue": "cannot set '__add__' attribute of immutable type 'function'",
     "output_type": "error",
     "traceback": [
      "\u001b[31m---------------------------------------------------------------------------\u001b[39m",
      "\u001b[31mTypeError\u001b[39m                                 Traceback (most recent call last)",
      "\u001b[36mCell\u001b[39m\u001b[36m \u001b[39m\u001b[32mIn[5]\u001b[39m\u001b[32m, line 7\u001b[39m\n\u001b[32m      4\u001b[39m     \u001b[38;5;28mtype\u001b[39m(get).\u001b[34m__add__\u001b[39m = vector_add \n\u001b[32m      5\u001b[39m     \u001b[38;5;28;01mreturn\u001b[39;00m get\n\u001b[32m----> \u001b[39m\u001b[32m7\u001b[39m v1 = \u001b[43maddable_vector\u001b[49m\u001b[43m(\u001b[49m\u001b[32;43m1\u001b[39;49m\u001b[43m,\u001b[49m\u001b[32;43m2\u001b[39;49m\u001b[43m)\u001b[49m\n\u001b[32m      8\u001b[39m v2 = addable_vector(\u001b[32m4\u001b[39m,\u001b[32m7\u001b[39m)\n\u001b[32m      9\u001b[39m v_sum = v1 + v2\n",
      "\u001b[36mCell\u001b[39m\u001b[36m \u001b[39m\u001b[32mIn[5]\u001b[39m\u001b[32m, line 4\u001b[39m, in \u001b[36maddable_vector\u001b[39m\u001b[34m(x, y)\u001b[39m\n\u001b[32m      2\u001b[39m \u001b[38;5;28;01mdef\u001b[39;00m\u001b[38;5;250m \u001b[39m\u001b[34mget\u001b[39m(i):\n\u001b[32m      3\u001b[39m     \u001b[38;5;28;01mreturn\u001b[39;00m x \u001b[38;5;28;01mif\u001b[39;00m i==\u001b[32m0\u001b[39m \u001b[38;5;28;01melse\u001b[39;00m y\n\u001b[32m----> \u001b[39m\u001b[32m4\u001b[39m \u001b[38;5;28;43mtype\u001b[39;49m\u001b[43m(\u001b[49m\u001b[43mget\u001b[49m\u001b[43m)\u001b[49m\u001b[43m.\u001b[49m\u001b[34;43m__add__\u001b[39;49m = vector_add \n\u001b[32m      5\u001b[39m \u001b[38;5;28;01mreturn\u001b[39;00m get\n",
      "\u001b[31mTypeError\u001b[39m: cannot set '__add__' attribute of immutable type 'function'"
     ]
    }
   ],
   "source": [
    "def addable_vector(x,y):\n",
    "    def get(i):\n",
    "        return x if i==0 else y\n",
    "    type(get).__add__ = vector_add \n",
    "    return get\n",
    "\n",
    "v1 = addable_vector(1,2)\n",
    "v2 = addable_vector(4,7)\n",
    "v_sum = v1 + v2\n",
    "print_vector(v_sum)"
   ]
  },
  {
   "cell_type": "markdown",
   "id": "b54e8593-0ed7-4b86-a110-99a88c437a51",
   "metadata": {},
   "source": [
    "We have reached a dead end - the designers of Python have decided that `function` is an immutable type, and therefore we cannot add dunder methods like normal objects."
   ]
  },
  {
   "cell_type": "markdown",
   "id": "80353378-d0e8-444d-bcef-1554a288dbdd",
   "metadata": {},
   "source": [
    "## Playing with Time & Space\n",
    "\n",
    "No doubt that defining closure-objects is less readable than using the traditional `class`.\n",
    "Closure-objects are also more limited than objects because we can't implement dunder methods to them.\n",
    "The next question we should ask ourselves is - are they more efficient than objects?\n",
    "\n",
    "\n",
    "Let's start by measuring the memory consumption of closure-objects compared to objects.\n",
    "But first - a few notes about memory in Python.\n",
    "\n",
    "To properly analyze the memory consumption of closures and objects we would need a deep dive into how memory is managed inside CPython, Python's C compiler - but I feel like it is a big diversion from the main subject of this notebook.\n",
    "Therefore, we are going to do some vanilla memory comparison by using `sys.getsizeof()`.\n",
    "The size of an object we see when using `sys.getsizeof()` is merely the size of the references it holds to internal attributes; these can be viewed by `dir`-ing an object:"
   ]
  },
  {
   "cell_type": "code",
   "execution_count": 6,
   "id": "bd435530-8a7a-4085-815a-d232b31aff9a",
   "metadata": {
    "scrolled": true
   },
   "outputs": [
    {
     "data": {
      "text/plain": [
       "['__class__',\n",
       " '__delattr__',\n",
       " '__dict__',\n",
       " '__dir__',\n",
       " '__doc__',\n",
       " '__eq__',\n",
       " '__format__',\n",
       " '__ge__',\n",
       " '__getattribute__',\n",
       " '__getstate__',\n",
       " '__gt__',\n",
       " '__hash__',\n",
       " '__init__',\n",
       " '__init_subclass__',\n",
       " '__le__',\n",
       " '__lt__',\n",
       " '__module__',\n",
       " '__ne__',\n",
       " '__new__',\n",
       " '__reduce__',\n",
       " '__reduce_ex__',\n",
       " '__repr__',\n",
       " '__setattr__',\n",
       " '__sizeof__',\n",
       " '__str__',\n",
       " '__subclasshook__',\n",
       " '__weakref__']"
      ]
     },
     "execution_count": 6,
     "metadata": {},
     "output_type": "execute_result"
    }
   ],
   "source": [
    "obj = TrackedObject()\n",
    "\n",
    "dir(obj)"
   ]
  },
  {
   "cell_type": "markdown",
   "id": "122e6dfb-c6de-4c3b-82f9-800b4ba1c377",
   "metadata": {},
   "source": [
    "We can see a long list of dunders - these are the object's internal attributes.\n",
    "\n",
    "To prove that `sys.getsizeof()` gives us only the reference size, we can see that the size of the object's `__dict__` (which stores its attributes) is already bigger than the size of the object itself we get when using `sys.getsizeof()`:"
   ]
  },
  {
   "cell_type": "code",
   "execution_count": 9,
   "id": "564a5791-0b30-45af-9dea-1a344629e423",
   "metadata": {},
   "outputs": [
    {
     "name": "stdout",
     "output_type": "stream",
     "text": [
      "48\n",
      "280\n"
     ]
    }
   ],
   "source": [
    "import sys\n",
    "\n",
    "print(sys.getsizeof(obj))\n",
    "print(sys.getsizeof(obj.__dict__))"
   ]
  },
  {
   "cell_type": "markdown",
   "id": "2bc445de-840c-46ec-a1b7-bf474983f6a8",
   "metadata": {},
   "source": [
    "The size of `obj` returned by `sys.getsizeof()` is determined by what references `obj` holds in its `__dir__`.\n",
    "It does not represent the real memory consumption in the system when creating an object, but it does give us a feeling of how much memory-consuming it will be to pass the object around between functions or make copies of it."
   ]
  },
  {
   "cell_type": "markdown",
   "id": "cc15fb9a-980a-4dd8-8feb-2dc2afd6700c",
   "metadata": {},
   "source": [
    "### Space Comparison\n",
    "\n",
    "Understanding this, it is time for our ultimate test - which is heavier: \"regular\" objects or closure-objects?\n",
    "\n",
    "We first start by making a `class` version of a vector for comparison:"
   ]
  },
  {
   "cell_type": "code",
   "execution_count": 10,
   "id": "bede50a3-c68b-4f4b-b910-74dccb31065c",
   "metadata": {},
   "outputs": [],
   "source": [
    "class Vector:\n",
    "    def __init__(self, x, y):\n",
    "        self.x = x\n",
    "        self.y = y\n",
    "\n",
    "    def vector_add(self, other):\n",
    "        return self.__class__(self.x+other.x, self.y+other.y)\n",
    "\n",
    "    def print_vector(self):\n",
    "        print(f\"({self.x},{self.y})\")"
   ]
  },
  {
   "cell_type": "markdown",
   "id": "229889aa-ec2c-4c8e-93dc-83bb749a520b",
   "metadata": {},
   "source": [
    "Now let's compare the size in bytes using `sys.getsizeof()`:"
   ]
  },
  {
   "cell_type": "code",
   "execution_count": 11,
   "id": "2fcc0840-72eb-482e-b048-0ffd84c37141",
   "metadata": {},
   "outputs": [
    {
     "name": "stdout",
     "output_type": "stream",
     "text": [
      "160\n",
      "48\n"
     ]
    }
   ],
   "source": [
    "closure_vec = vector(1,2)\n",
    "object_vec = Vector(1,2)\n",
    "\n",
    "print(sys.getsizeof(closure_vec))\n",
    "print(sys.getsizeof(object_vec))"
   ]
  },
  {
   "cell_type": "markdown",
   "id": "3d00c955-7bf0-4baa-9207-59d59d41cf0a",
   "metadata": {},
   "source": [
    "It looks like our closure-object takes much more memory than regular objects; this is not because of our inefficient implementation, but a basic size difference between functions and objects in Python - function just consume more memory than objects.\n",
    "\n",
    "Let's see which attributes of functions can be blamed for the extra weight:"
   ]
  },
  {
   "cell_type": "code",
   "execution_count": 12,
   "id": "350d3fac-c627-46c2-99ab-cef8ecae92ae",
   "metadata": {},
   "outputs": [
    {
     "data": {
      "text/plain": [
       "{'__annotations__',\n",
       " '__builtins__',\n",
       " '__call__',\n",
       " '__closure__',\n",
       " '__code__',\n",
       " '__defaults__',\n",
       " '__get__',\n",
       " '__globals__',\n",
       " '__kwdefaults__',\n",
       " '__name__',\n",
       " '__qualname__',\n",
       " '__type_params__'}"
      ]
     },
     "execution_count": 12,
     "metadata": {},
     "output_type": "execute_result"
    }
   ],
   "source": [
    "object_attrs = dir(object_vec)\n",
    "closure_attrs = dir(closure_vec)\n",
    "set(closure_attrs) - set(object_attrs)"
   ]
  },
  {
   "cell_type": "markdown",
   "id": "7a3e4a18-e87b-4954-be5f-645e881d5a01",
   "metadata": {},
   "source": [
    "Most of these attributes are not too exciting - however, there is one attribute worth talking about: `__closure__`.\n",
    "\n",
    "If we take an object and stuff it with attributes, `sys.getsizeof()` will still give us the same result - no matter the number of attributes we assign.\n",
    "We *do* see the size difference in the object's `__dict__`:"
   ]
  },
  {
   "cell_type": "code",
   "execution_count": 13,
   "id": "aac85a3e-8ec0-4b15-8763-38d47e19e6b1",
   "metadata": {},
   "outputs": [
    {
     "name": "stdout",
     "output_type": "stream",
     "text": [
      "48\n",
      "26032\n"
     ]
    }
   ],
   "source": [
    "class HeavyObject:\n",
    "    def __init__(self):\n",
    "        # set attributes \"attr0\",\"attr1\",... with values 0,1,...\n",
    "        for i in range(1000):\n",
    "            setattr(self, f\"attr{i}\", i)\n",
    "\n",
    "heavy_obj = HeavyObject()\n",
    "print(sys.getsizeof(heavy_obj))\n",
    "print(sys.getsizeof(heavy_obj.__dict__))"
   ]
  },
  {
   "cell_type": "markdown",
   "id": "8d1bcb29-1f77-412c-a622-48a493447bb8",
   "metadata": {},
   "source": [
    "The object's size indeed hasn't changed (remember that it depends on its references), but all of the attributes are stored in `__dict__` and we can see that its size increased appropriately.\n",
    "\n",
    "What if we did the same thing with closure-objects?"
   ]
  },
  {
   "cell_type": "code",
   "execution_count": 14,
   "id": "7b689461-2d57-4461-a203-f4bfa7025ec3",
   "metadata": {},
   "outputs": [
    {
     "name": "stdout",
     "output_type": "stream",
     "text": [
      "64\n"
     ]
    }
   ],
   "source": [
    "def heavy_closure():\n",
    "    attrs = {f\"attr{i}\":i for i in range(1000)}\n",
    "    def get(j):\n",
    "        return attrs[f\"attr{j}\"]\n",
    "    return get\n",
    "\n",
    "heavy_clos = heavy_closure()\n",
    "print(sys.getsizeof(heavy_clos.__dict__))"
   ]
  },
  {
   "cell_type": "markdown",
   "id": "892f5ea7-f433-4fed-a00a-0a9a8e2ff7c6",
   "metadata": {},
   "source": [
    "Well, of course these \"attributes\" are not stored in `heavy_clos.__dict__` because they are not really attributes and we cannot access them with `heavy_clos.a1` like we could with an object.\n",
    "\n",
    "But the data has to be stored _somewhere_.\n",
    "We can scan `heavy_clos`'s attributes for immediate suspects:"
   ]
  },
  {
   "cell_type": "code",
   "execution_count": 15,
   "id": "120b5df1-45a1-443d-a89d-424e6dcf9222",
   "metadata": {
    "scrolled": true
   },
   "outputs": [
    {
     "name": "stdout",
     "output_type": "stream",
     "text": [
      "__annotations__ 64\n",
      "__builtins__ 6576\n",
      "__call__ 48\n",
      "__class__ 432\n",
      "__closure__ 48\n",
      "__code__ 216\n",
      "__defaults__ 16\n",
      "__delattr__ 48\n",
      "__dict__ 64\n",
      "__dir__ 72\n",
      "__doc__ 16\n",
      "__eq__ 48\n",
      "__format__ 72\n",
      "__ge__ 48\n",
      "__get__ 48\n",
      "__getattribute__ 48\n",
      "__getstate__ 72\n",
      "__globals__ 1584\n",
      "__gt__ 48\n",
      "__hash__ 48\n",
      "__init__ 48\n",
      "__init_subclass__ 72\n",
      "__kwdefaults__ 16\n",
      "__le__ 48\n",
      "__lt__ 48\n",
      "__module__ 49\n",
      "__name__ 44\n",
      "__ne__ 48\n",
      "__new__ 72\n",
      "__qualname__ 67\n",
      "__reduce__ 72\n",
      "__reduce_ex__ 72\n",
      "__repr__ 48\n",
      "__setattr__ 48\n",
      "__sizeof__ 72\n",
      "__str__ 48\n",
      "__subclasshook__ 72\n",
      "__type_params__ 40\n"
     ]
    }
   ],
   "source": [
    "for attr_name in dir(heavy_clos):\n",
    "    attr = getattr(heavy_clos, attr_name)\n",
    "    print(attr_name, sys.getsizeof(attr))"
   ]
  },
  {
   "cell_type": "markdown",
   "id": "939e0779-df1d-424d-8ba0-6dbafe3b2e2a",
   "metadata": {},
   "source": [
    "Now that's odd - none of the attributes seems big enough to store the data our closure is supposed to hold...\n",
    "\n",
    "The answer is that data lies in the `__closure__` attribute, which is itself just a reference to a tuple of \"cells\" - and therefore is of small size."
   ]
  },
  {
   "cell_type": "code",
   "execution_count": 16,
   "id": "1ba83d7f-f11b-4407-a1e5-ec78800a49b0",
   "metadata": {},
   "outputs": [
    {
     "data": {
      "text/plain": [
       "(<cell at 0x000001DEFB6B3190: dict object at 0x000001DEFBB89340>,)"
      ]
     },
     "execution_count": 16,
     "metadata": {},
     "output_type": "execute_result"
    }
   ],
   "source": [
    "heavy_clos.__closure__"
   ]
  },
  {
   "cell_type": "markdown",
   "id": "7eaddf0d-43d3-40f0-958d-b6f625abce39",
   "metadata": {},
   "source": [
    "That cell is our closure version of an object's `__dict__`, and if we check its size - "
   ]
  },
  {
   "cell_type": "code",
   "execution_count": 17,
   "id": "56234c44-3f01-46fd-8a12-24e45db4af41",
   "metadata": {
    "scrolled": true
   },
   "outputs": [
    {
     "data": {
      "text/plain": [
       "26032"
      ]
     },
     "execution_count": 17,
     "metadata": {},
     "output_type": "execute_result"
    }
   ],
   "source": [
    "cell = heavy_clos.__closure__[0]\n",
    "sys.getsizeof(cell.cell_contents)"
   ]
  },
  {
   "cell_type": "markdown",
   "id": "33b80435-0845-4888-86c4-8edbf20ff07f",
   "metadata": {},
   "source": [
    "There is our data!\n",
    "\n",
    "Frustrating enough, the conclusion of this section is that passing closures around is probably less efficient than objects, and even though we can't access attributes of closure-objects as easily as \"regular\" objects, they still have to be stored somewhere in memory.\n",
    "\n",
    "It is time for time analysis."
   ]
  },
  {
   "cell_type": "markdown",
   "id": "1421f617-92d2-4db8-9e41-461ccce39d1b",
   "metadata": {},
   "source": [
    "### Time Comparison\n",
    "\n",
    "I had a gut feeling that this is also going to be a losing battle for closure-objects.\n",
    "\"Regular\" objects are such a fundamental part of the language that we should assume they are optimized beyond recognition.\n",
    "\n",
    "When I first run the time benchmarking using Jupyter's magic `%timeit` the time variance was too large between runs, so I decided to implement a little benchmark function of my own. It probably has some flaws - benchmarking properly is far too complicated for this notebook - but at least it gave fairly stable results, so I rolled with it."
   ]
  },
  {
   "cell_type": "code",
   "execution_count": 18,
   "id": "80f454b4-66dd-4954-8f7e-ddb19320c8da",
   "metadata": {},
   "outputs": [],
   "source": [
    "import time\n",
    "\n",
    "def benchmark(func):\n",
    "    start = time.perf_counter()\n",
    "    for _ in range(100):\n",
    "        func()\n",
    "    return time.perf_counter() - start"
   ]
  },
  {
   "cell_type": "markdown",
   "id": "ad2b2aab-1f2f-4e58-b90f-c1a610e2295b",
   "metadata": {},
   "source": [
    "I also made a plotting function so we can see the results of multiple test runs:"
   ]
  },
  {
   "cell_type": "code",
   "execution_count": 19,
   "id": "7ad04396-43cb-4b7a-b561-9646242142aa",
   "metadata": {},
   "outputs": [],
   "source": [
    "import matplotlib.pyplot as plt\n",
    "\n",
    "def plot_benchmark(func1, func2, labels):\n",
    "    results1 = [benchmark(func1) for _ in range(100_000)]\n",
    "    results2 = [benchmark(func2) for _ in range(100_000)]\n",
    "    plt.boxplot([results1, results2], tick_labels=labels, showfliers=False)\n",
    "    plt.show()"
   ]
  },
  {
   "cell_type": "markdown",
   "id": "8b0d446f-f322-4f76-b68a-c428d74a7c85",
   "metadata": {},
   "source": [
    "We are now ready to benchmark our closure-objects.\n",
    "\n",
    "Let's start by benchmarking instance creation:"
   ]
  },
  {
   "cell_type": "code",
   "execution_count": 22,
   "id": "f61f22bf-6fb5-4611-829b-2bed1f24f73f",
   "metadata": {},
   "outputs": [
    {
     "data": {
      "image/png": "[encoded data removed]",
      "text/plain": [
       "<Figure size 640x480 with 1 Axes>"
      ]
     },
     "metadata": {},
     "output_type": "display_data"
    }
   ],
   "source": [
    "create_closure = lambda: vector(1,2)\n",
    "create_object = lambda: Vector(1,2)\n",
    "\n",
    "plot_benchmark(create_closure, create_object, labels=['closure', 'object'])"
   ]
  },
  {
   "cell_type": "markdown",
   "id": "38abe13a-1cd9-4489-bffb-9ae405a24acc",
   "metadata": {},
   "source": [
    "It looks like closure creation *is* faster than objects!\n",
    "Maybe this is an unfair comparison - remember that when we are creating an object we define the `print` and `add` methods, and when creating a closure we only set up its attributes.\n",
    "\n",
    "Let's see if something changes when we redefine the `Vector` class to have attributes only:"
   ]
  },
  {
   "cell_type": "code",
   "execution_count": 23,
   "id": "36fb9306-0b10-4128-9426-5f94325c5df9",
   "metadata": {},
   "outputs": [
    {
     "data": {
      "image/png": "[encoded data removed]",
      "text/plain": [
       "<Figure size 640x480 with 1 Axes>"
      ]
     },
     "metadata": {},
     "output_type": "display_data"
    }
   ],
   "source": [
    "class AttributeOnlyVector:\n",
    "    def __init__(self, x, y):\n",
    "        self.x = x\n",
    "        self.y = y\n",
    "\n",
    "\n",
    "create_closure = lambda: vector(1,2)\n",
    "create_object = lambda: AttributeOnlyVector(1,2)\n",
    "\n",
    "plot_benchmark(create_closure, create_object, labels=['closure', 'object'])"
   ]
  },
  {
   "cell_type": "markdown",
   "id": "7eb979f2-b189-48eb-979f-ca9689a9e7d7",
   "metadata": {},
   "source": [
    "It looks like we have managed to improve the objects' creation time to be faster than closures.\n",
    "\n",
    "However, most class definitions will often have some (if not many) method definitions, so our first creation benchmark is closer to a real-life scenario than the attribute-only benchmark.\n",
    "Closures, however, don't care about how many methods we define on them later - at creation time only attributes matter.\n",
    "\n",
    "Speaking about methods, let's benchmark those:"
   ]
  },
  {
   "cell_type": "code",
   "execution_count": 24,
   "id": "1f1197d1-20ff-4ae8-aed6-14fba4ec7d76",
   "metadata": {},
   "outputs": [
    {
     "data": {
      "image/png": "[encoded data removed]",
      "text/plain": [
       "<Figure size 640x480 with 1 Axes>"
      ]
     },
     "metadata": {},
     "output_type": "display_data"
    }
   ],
   "source": [
    "closure_vec = vector(1,2)\n",
    "add_closure = lambda: vector_add(closure_vec, closure_vec)\n",
    "\n",
    "object_vec = Vector(1,2)\n",
    "add_object = lambda: object_vec.vector_add(object_vec)\n",
    "\n",
    "plot_benchmark(add_closure, add_object, labels=['closure', 'object'])"
   ]
  },
  {
   "cell_type": "markdown",
   "id": "b25e9bba-d9e0-447c-8c11-cc17a6d3fd9f",
   "metadata": {},
   "source": [
    "Here objects are much faster.\n",
    "We can optimize our closure version of addition by reducing function calls - instead of calling `get` functions we can access the attributes directly:"
   ]
  },
  {
   "cell_type": "code",
   "execution_count": 25,
   "id": "7b93e391-1527-4398-873c-c1c0c024192d",
   "metadata": {},
   "outputs": [],
   "source": [
    "def vector_add(vec1, vec2):\n",
    "    return vector(\n",
    "        vec1(0) + vec2(0), vec1(1) + vec2(1)\n",
    "    )"
   ]
  },
  {
   "cell_type": "markdown",
   "id": "1d7ea7cd-46ff-42de-adb9-6a44fd1b61b3",
   "metadata": {},
   "source": [
    "Benchmarking again:"
   ]
  },
  {
   "cell_type": "code",
   "execution_count": 26,
   "id": "05b50914-edb2-40aa-b419-ec027c4a5be3",
   "metadata": {},
   "outputs": [
    {
     "data": {
      "image/png": "[encoded data removed]",
      "text/plain": [
       "<Figure size 640x480 with 1 Axes>"
      ]
     },
     "metadata": {},
     "output_type": "display_data"
    }
   ],
   "source": [
    "closure_vec = vector(1,2)\n",
    "add_closure = lambda: vector_add(closure_vec, closure_vec)\n",
    "\n",
    "object_vec = Vector(1,2)\n",
    "add_object = lambda: object_vec.vector_add(object_vec)\n",
    "\n",
    "plot_benchmark(add_closure, add_object, labels=['closure', 'object'])"
   ]
  },
  {
   "cell_type": "markdown",
   "id": "1d719800-3300-4d08-a1d1-bb73d6821b5c",
   "metadata": {},
   "source": [
    "Better, but still slower than objects.\n",
    "\n",
    "I think that the reason for faster method calls on objects is deeply connected to accessing methods and attributes on objects; therefore we will benchmark attribute access before digging into it:"
   ]
  },
  {
   "cell_type": "code",
   "execution_count": 27,
   "id": "447dcae8-adfb-48fb-861f-ab1162533630",
   "metadata": {},
   "outputs": [
    {
     "data": {
      "image/png": "[encoded data removed]",
      "text/plain": [
       "<Figure size 640x480 with 1 Axes>"
      ]
     },
     "metadata": {},
     "output_type": "display_data"
    }
   ],
   "source": [
    "closure_vec = vector(1,2)\n",
    "access_closure = lambda: closure_vec(0)\n",
    "\n",
    "object_vec = Vector(1,2)\n",
    "access_object = lambda: object_vec.x\n",
    "\n",
    "plot_benchmark(access_closure, access_object, labels=['closure', 'object'])"
   ]
  },
  {
   "cell_type": "markdown",
   "id": "92611865-5802-4929-9f48-803cc1e86b7e",
   "metadata": {},
   "source": [
    "Also here - objects are faster.\n",
    "\n",
    "Remember that I said objects are probably optimized better in the language? What is this optimization actually?\n",
    "I think the answer lies in PEP 659 that was implemented in Python 3.11 (https://peps.python.org/pep-0659/). In this optimization proposal, the Python interpreter recognizes operations that are frequently used and \"adapts\" itself to execute them faster by using dedicated opcodes.\n",
    "\n",
    "It will probably be easier to understand by seeing an example. \n",
    "Python's interpreter uses an opcode called `LOAD_ATTR` to fetch attributes from instances, classes, modules, etc. This opcode makes the runtime look up the attribute in the object's attribute `__dict__` and load it onto the stack.\n",
    "\n",
    "We can use `dis` to disassemble a function after the interpreter compiled it, and see this `LOAD_ATTR` opcode with our own eyes:"
   ]
  },
  {
   "cell_type": "code",
   "execution_count": 29,
   "id": "2582288c-2d5c-4fb9-bf76-3500e65a660d",
   "metadata": {},
   "outputs": [
    {
     "name": "stdout",
     "output_type": "stream",
     "text": [
      "  3           0 RESUME                   0\n",
      "              2 LOAD_GLOBAL              0 (object_vec)\n",
      "             12 LOAD_ATTR                2 (x)\n",
      "             32 RETURN_VALUE\n"
     ]
    }
   ],
   "source": [
    "import dis\n",
    "\n",
    "dis.dis(lambda: object_vec.x)"
   ]
  },
  {
   "cell_type": "markdown",
   "id": "e4d9d1fb-e04e-41b9-a9c9-89fc8c25906a",
   "metadata": {},
   "source": [
    "Because of PEP 659, when a function performs many attribute-access operations the interpreter declares it as \"hot code\" and upgrades the `LOAD_ATTR` opcode to `LOAD_ATTR_INSTANCE_VALUE` - the attribute's value (or its location) gets cached so it can be fetched faster than chasing pointers."
   ]
  },
  {
   "cell_type": "code",
   "execution_count": 30,
   "id": "ad554241-9693-4aad-b308-38b9be981d91",
   "metadata": {},
   "outputs": [
    {
     "name": "stdout",
     "output_type": "stream",
     "text": [
      "  5           0 RESUME                   0\n",
      "              2 LOAD_GLOBAL_MODULE       0 (object_vec)\n",
      "             12 LOAD_ATTR_INSTANCE_VALUE     2 (x)\n",
      "             32 RETURN_VALUE\n"
     ]
    }
   ],
   "source": [
    "dis.dis(access_object, adaptive=True)  # `adaptive=True` makes `dis` print the specialized versions of opcodes"
   ]
  },
  {
   "cell_type": "markdown",
   "id": "68e49209-59f4-4028-a9e0-292bb62c7e96",
   "metadata": {},
   "source": [
    "Now you probably ask yourself - what happens in closure access?\n",
    "\n",
    "First let's check un-optimized closure calls:"
   ]
  },
  {
   "cell_type": "code",
   "execution_count": 31,
   "id": "244da244-a9e3-4d21-9e0b-a493bc7aef21",
   "metadata": {},
   "outputs": [
    {
     "name": "stdout",
     "output_type": "stream",
     "text": [
      "  1           0 RESUME                   0\n",
      "              2 LOAD_GLOBAL              1 (NULL + closure_vec)\n",
      "             12 LOAD_CONST               1 (0)\n",
      "             14 CALL                     1\n",
      "             22 RETURN_VALUE\n"
     ]
    }
   ],
   "source": [
    "dis.dis(lambda: closure_vec(0))"
   ]
  },
  {
   "cell_type": "markdown",
   "id": "1e58c575-a2c6-42ce-aeab-29e1c7e46f3e",
   "metadata": {},
   "source": [
    "Pretty simple so far - instead of the `LOAD_ATTR` we have a `LOAD_CONST` to get the `x` value.\n",
    "\n",
    "Does it get optimized too?"
   ]
  },
  {
   "cell_type": "code",
   "execution_count": 32,
   "id": "1cf55fa4-ee73-4289-8a5d-9390cf267bb2",
   "metadata": {},
   "outputs": [
    {
     "name": "stdout",
     "output_type": "stream",
     "text": [
      "  2           0 RESUME                   0\n",
      "              2 LOAD_GLOBAL_MODULE       1 (NULL + closure_vec)\n",
      "             12 LOAD_CONST               1 (0)\n",
      "             14 CALL_PY_EXACT_ARGS       1\n",
      "             22 RETURN_VALUE\n"
     ]
    }
   ],
   "source": [
    "dis.dis(access_closure, adaptive=True)"
   ]
  },
  {
   "cell_type": "markdown",
   "id": "cf3e9046-6af9-40b9-87d6-5929e4295ece",
   "metadata": {},
   "source": [
    "Sadly - it isn't; what gets optimized here is the function call, which gets replaced by `CALL_PY_EXACT_ARGS`.\n",
    "This optimization speeds up function calls when the number of arguments is fixed (i.e. no `*args` or `**kwargs` are passed).\n",
    "\n",
    "So, it seems like attribute access in objects is indeed optimized better than closure calls.\n",
    "This is also probably why our addition benchmark showed better results for objects."
   ]
  },
  {
   "cell_type": "markdown",
   "id": "1b943f03-ffad-4fc2-b5a5-c93cdbc8c1ce",
   "metadata": {},
   "source": [
    "## Summary"
   ]
  },
  {
   "cell_type": "markdown",
   "id": "628448e6-fcc9-4bbc-8a44-2fd94e4cc56e",
   "metadata": {},
   "source": [
    "What have we learnt so far?\n",
    "\n",
    "We've seen a cool way to define objects without objects, using closures.\n",
    "Are they any good?\n",
    "* They are less flexible than objects - we lose the ability to assign class attributes (like `__add__`) to closure-objects, because their type is a `function` which is immutable.\n",
    "* They don't save us memory - functions in general require more memory overhead than objects.\n",
    "* They may be faster to create, but slower in attribute and method access; this is crucial because we usually create objects less frequently than using them.\n",
    "\n",
    "We could entertain ourselves with the idea of making a PEP for future Python versions to optimize closures to the point they are as efficient as objects; but it became clear to me that closures are *less native* in Python, which is a more object oriented language and less functional - carrying functions around feels more clumsy and awkward than using objects.\n",
    "\n",
    "So it is probably *not* a good idea to go around replacing real objects with closure-objects in your code.\n",
    "However - this exercise in objects and closures gave us a good opportunity to learn about the internal structure and properties of objects and functions in Python.\n",
    "I hope you have learned from this notebook at least as much as I did :)"
   ]
  }
 ],
 "metadata": {
  "kernelspec": {
   "display_name": "Python 3 (ipykernel)",
   "language": "python",
   "name": "python3"
  },
  "language_info": {
   "codemirror_mode": {
    "name": "ipython",
    "version": 3
   },
   "file_extension": ".py",
   "mimetype": "text/x-python",
   "name": "python",
   "nbconvert_exporter": "python",
   "pygments_lexer": "ipython3",
   "version": "3.12.8"
  }
 },
 "nbformat": 4,
 "nbformat_minor": 5
}
