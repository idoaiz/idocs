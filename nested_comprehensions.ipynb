{
 "cells": [
  {
   "cell_type": "markdown",
   "id": "196a71cb-f5a8-4147-9808-cf7e8daf3a31",
   "metadata": {},
   "source": [
    "# Nested Comprehensions"
   ]
  },
  {
   "cell_type": "markdown",
   "id": "50c27b83-bae9-4ff4-abb7-f3e334405114",
   "metadata": {},
   "source": [
    "I love comprehensions. They let us replace many lines of loops with a single concise sentence.\n",
    "Python is considered a \"declarative\" language - that means that instead of issuing commands like a cooking recipe (\"take 2 eggs, break them, mix in a bowl\") it *declares* variables, functions or calculations in a single expression (\"make a bowl of 2 mixed eggs\").\n",
    "\n",
    "Python has blessed us with the ability to make a comprehension not just out of loops, but also out of *nested* loops.\n",
    "To my surprise, I found out that nested comprehensions behave counter-intuitively - very uncharacteristic for Python, which I always considered a very English-like language."
   ]
  },
  {
   "cell_type": "markdown",
   "id": "b58e3247-21a0-4918-9ccf-cdbde4cbc02a",
   "metadata": {},
   "source": [
    "Take for example the following nested comprehension:"
   ]
  },
  {
   "cell_type": "code",
   "execution_count": 1,
   "id": "09965ac1-c6a9-4f67-a82b-3d82b43f5e56",
   "metadata": {},
   "outputs": [],
   "source": [
    "l = [(i, j) for i in range(3) for j in range(3, 6)]"
   ]
  },
  {
   "cell_type": "markdown",
   "id": "d91e2ffc-bdff-464a-9c23-1b0057a1ca33",
   "metadata": {},
   "source": [
    "On which index are we iterating first? If we would look at the 3 first items in the list - will they have different `i`'s or different `j`'s?\n",
    "My first answer was that `i` varies faster - we generate the tuple `(i,j)` for 3 different `i`'s, then we do that repeatedly for 3 different `j`'s.\n",
    "\n",
    "I was wrong:"
   ]
  },
  {
   "cell_type": "code",
   "execution_count": 2,
   "id": "0ae77d73-40d1-4bc3-989d-5557ab861645",
   "metadata": {},
   "outputs": [
    {
     "name": "stdout",
     "output_type": "stream",
     "text": [
      "[(0, 3), (0, 4), (0, 5), (1, 3), (1, 4), (1, 5), (2, 3), (2, 4), (2, 5)]\n"
     ]
    }
   ],
   "source": [
    "print(l)"
   ]
  },
  {
   "cell_type": "markdown",
   "id": "96b0a44d-d250-45cf-aa43-db75eee7db35",
   "metadata": {},
   "source": [
    "Let's see another example.\n",
    "We want to generate a flat list of all uppercase letters from a list of words.\n",
    "\n",
    "Intuitively I would write something like this:"
   ]
  },
  {
   "cell_type": "code",
   "execution_count": 2,
   "id": "a92a47a5-3fce-4067-bf94-2427c2e9c552",
   "metadata": {},
   "outputs": [
    {
     "ename": "NameError",
     "evalue": "name 'animal' is not defined",
     "output_type": "error",
     "traceback": [
      "\u001b[31m---------------------------------------------------------------------------\u001b[39m",
      "\u001b[31mNameError\u001b[39m                                 Traceback (most recent call last)",
      "\u001b[36mCell\u001b[39m\u001b[36m \u001b[39m\u001b[32mIn[2]\u001b[39m\u001b[32m, line 2\u001b[39m\n\u001b[32m      1\u001b[39m animals = [\u001b[33m'\u001b[39m\u001b[33mdog\u001b[39m\u001b[33m'\u001b[39m, \u001b[33m'\u001b[39m\u001b[33mcat\u001b[39m\u001b[33m'\u001b[39m, \u001b[33m'\u001b[39m\u001b[33mape\u001b[39m\u001b[33m'\u001b[39m]\n\u001b[32m----> \u001b[39m\u001b[32m2\u001b[39m [char.upper() \u001b[38;5;28;01mfor\u001b[39;00m char \u001b[38;5;129;01min\u001b[39;00m \u001b[43manimal\u001b[49m \u001b[38;5;28;01mfor\u001b[39;00m animal \u001b[38;5;129;01min\u001b[39;00m animals]\n",
      "\u001b[31mNameError\u001b[39m: name 'animal' is not defined"
     ]
    }
   ],
   "source": [
    "animals = ['dog', 'cat', 'ape']\n",
    "[char.upper() for char in animal for animal in animals]"
   ]
  },
  {
   "cell_type": "markdown",
   "id": "000bc65a-f16c-4b5e-908d-98598069786e",
   "metadata": {},
   "source": [
    "But this raises an error - `animal` is referenced before it is defined.\n",
    "Why?\n",
    "\n",
    "Because Python interprets this in the opposite order - this comprehension really translates to:"
   ]
  },
  {
   "cell_type": "code",
   "execution_count": 3,
   "id": "f3f75799-9e4f-4aff-a6c5-87059d5f2a55",
   "metadata": {},
   "outputs": [
    {
     "ename": "NameError",
     "evalue": "name 'animal' is not defined",
     "output_type": "error",
     "traceback": [
      "\u001b[31m---------------------------------------------------------------------------\u001b[39m",
      "\u001b[31mNameError\u001b[39m                                 Traceback (most recent call last)",
      "\u001b[36mCell\u001b[39m\u001b[36m \u001b[39m\u001b[32mIn[3]\u001b[39m\u001b[32m, line 2\u001b[39m\n\u001b[32m      1\u001b[39m l = []\n\u001b[32m----> \u001b[39m\u001b[32m2\u001b[39m \u001b[38;5;28;01mfor\u001b[39;00m char \u001b[38;5;129;01min\u001b[39;00m \u001b[43manimal\u001b[49m:\n\u001b[32m      3\u001b[39m     \u001b[38;5;28;01mfor\u001b[39;00m animal \u001b[38;5;129;01min\u001b[39;00m animals:\n\u001b[32m      4\u001b[39m         l.append(char)\n",
      "\u001b[31mNameError\u001b[39m: name 'animal' is not defined"
     ]
    }
   ],
   "source": [
    "l = []\n",
    "for char in animal:\n",
    "    for animal in animals:\n",
    "        l.append(char)"
   ]
  },
  {
   "cell_type": "markdown",
   "id": "19f0a9f8-c9ce-48f3-948e-58fffad30b31",
   "metadata": {},
   "source": [
    "Indeed, PEP 202 (https://peps.python.org/pep-0202/) states that nested comprehensions behave like nested loops - the last index varying the fastest.\n",
    "There is a core logic here - Python always reads \"top-to-bottom, left-to-right\", and to keep consistency with nested loops (which read top-to-bottom) comprehensions can be read as converting this form exactly to left-to-right.\n",
    "\n",
    "But in the case of nested comprehensions its easy to get confused because the holy \"left-to-right\" rule is not kept.\n",
    "The resulting expression is positioned *in the start* of the comprehension, instead of at the end like in nested loops.\n",
    "In our example - if this was a single loop we would phrase it as the (very english) sentence \"take `char.upper()` for `char` in `animal`\"; so naturally we feel like a double loop should just continue with \"... for every `animal` in `animals`\".\n",
    "\n",
    "That's why the correct syntax reads pretty weird:"
   ]
  },
  {
   "cell_type": "code",
   "execution_count": 4,
   "id": "4c6e78f1-3345-4fce-a3e5-6acec1761498",
   "metadata": {},
   "outputs": [
    {
     "data": {
      "text/plain": [
       "['D', 'O', 'G', 'C', 'A', 'T', 'A', 'P', 'E']"
      ]
     },
     "execution_count": 4,
     "metadata": {},
     "output_type": "execute_result"
    }
   ],
   "source": [
    "[char.upper() for animal in animals for char in animal]"
   ]
  },
  {
   "cell_type": "markdown",
   "id": "9c8f7105-c76b-4e24-bd72-21c61d8e4ad0",
   "metadata": {},
   "source": [
    "## Why Shouldn't It Be Different"
   ]
  },
  {
   "cell_type": "markdown",
   "id": "7363963c-afea-4955-b86e-df530cfb7afd",
   "metadata": {},
   "source": [
    "Maybe the Python developers have made a mistake? Will it be more simple to write comprehension with the *first* index varying the fastest?\n",
    "\n",
    "It's obvious that for the interpreter itself it's easier to read comprehensions left-to-right: it can use the same code that parses regular loops for parsing comprehensions (only ignoring the `:` and indentations).\n",
    "\n",
    "But there may be another good reason why not to make comprehensions read in the opposite order.\n",
    "Often in loops we use a mechanism called \"early skipping\" - if some condition is met (or not met), we skip the rest of the loop for that iteration:"
   ]
  },
  {
   "cell_type": "code",
   "execution_count": 2,
   "id": "88062dd7-913b-42f7-b6cb-449784bfbe67",
   "metadata": {},
   "outputs": [
    {
     "name": "stdout",
     "output_type": "stream",
     "text": [
      "Work is done\n",
      "Work is done\n"
     ]
    }
   ],
   "source": [
    "for i in range(3):\n",
    "    if i > 0:\n",
    "        # Do a lot of work...\n",
    "        print(\"Work is done\")"
   ]
  },
  {
   "cell_type": "markdown",
   "id": "482fee3c-5b33-4de7-b6e0-50bce2417538",
   "metadata": {},
   "source": [
    "Comprehensions can also do early skipping:"
   ]
  },
  {
   "cell_type": "code",
   "execution_count": 2,
   "id": "1bcb3c17-b9d5-429b-bc51-01889ba0a758",
   "metadata": {},
   "outputs": [
    {
     "name": "stdout",
     "output_type": "stream",
     "text": [
      "Work is done\n",
      "Work is done\n"
     ]
    }
   ],
   "source": [
    "# the list will contain the return value of 'print', which is not really useful;\n",
    "# We use 'print' only to see work getting done\n",
    "l = [print(\"Work is done\") for i in range(3) if i > 0]"
   ]
  },
  {
   "cell_type": "markdown",
   "id": "5bcf94ed-10be-441d-a79a-863f0a0ee10f",
   "metadata": {},
   "source": [
    "If we have *nested* loops, then we can have multiple early skips - in each iteration we can decide if we want to continue to the next loops. \n",
    "\n",
    "Say we have a dictionary of words; we want to iterate only over food categories and get every food starting with the letter 'A'."
   ]
  },
  {
   "cell_type": "code",
   "execution_count": 4,
   "id": "41f7116d-ad3b-45b6-855a-c44e0856c5b3",
   "metadata": {},
   "outputs": [],
   "source": [
    "dictionary = {\n",
    "    'Fruits': ['Apple','Banana','Coconut'],\n",
    "    'Vegetables': ['Artichoke', 'Broccoli', 'Cucumber'],\n",
    "    'Animals': ['Ant', 'Baboon', 'Cheetah']\n",
    "}"
   ]
  },
  {
   "cell_type": "markdown",
   "id": "df133068-1718-4ed2-ba7a-6542420a16c9",
   "metadata": {},
   "source": [
    "Solving this with regular loops is straightforward:"
   ]
  },
  {
   "cell_type": "code",
   "execution_count": 6,
   "id": "3b468643-ad64-4b62-bb59-667498cc6254",
   "metadata": {},
   "outputs": [
    {
     "name": "stdout",
     "output_type": "stream",
     "text": [
      "Apple\n",
      "Artichoke\n"
     ]
    }
   ],
   "source": [
    "for category in dictionary:\n",
    "    if category in ['Fruits', 'Vegetables']:\n",
    "        for item in dictionary[category]:\n",
    "            if item.startswith('A'):\n",
    "                print(item)"
   ]
  },
  {
   "cell_type": "markdown",
   "id": "cba83bdf-ba66-4920-aa9b-0cd17e0782d2",
   "metadata": {},
   "source": [
    "How will this look with nested comprehensions?"
   ]
  },
  {
   "cell_type": "code",
   "execution_count": 5,
   "id": "4e32b594-9ade-4c3f-be27-21a1626d924e",
   "metadata": {},
   "outputs": [
    {
     "data": {
      "text/plain": [
       "['Apple', 'Artichoke']"
      ]
     },
     "execution_count": 5,
     "metadata": {},
     "output_type": "execute_result"
    }
   ],
   "source": [
    "[\n",
    "    item\n",
    "    for category in dictionary\n",
    "    if category in ['Fruits', 'Vegetables']\n",
    "    for item in dictionary[category]\n",
    "    if item.startswith('A')\n",
    "]"
   ]
  },
  {
   "cell_type": "markdown",
   "id": "7f2828e7-117c-4545-9e62-e9e03f7aa2f1",
   "metadata": {},
   "source": [
    "Suddenly, it is very convenient that the comprehension is arranged exactly as top-to-bottom syntax!\n",
    "Not only that it reads exactly the same as nested loops, but it is also super clear that when we reach a non-edible category we early-skip it.\n",
    "\n",
    "Let's assume you were convinced by my suggestion to switch the order of the comprehension; the result would look like this:"
   ]
  },
  {
   "cell_type": "code",
   "execution_count": null,
   "id": "d9791da6-2f76-4617-a335-997cbc919570",
   "metadata": {},
   "outputs": [],
   "source": [
    "[\n",
    "    item\n",
    "    for item in dictionary[category]\n",
    "    if item.startswith('A')\n",
    "    for category in dictionary\n",
    "    if category in ['Fruits', 'Vegetables']\n",
    "]"
   ]
  },
  {
   "cell_type": "markdown",
   "id": "f5eaa409-a878-46a4-a7c5-6af66937384b",
   "metadata": {},
   "source": [
    "I find it harder to understand the **order** in which iterations are early-skipped here - are we first filtering for every item starting with 'A' or for every food category?\n",
    "\n",
    "Remember that comprehensions, like loops, can nest for very long.\n",
    "Will it be convenient to read this many lines only to find out that the last line is a condition that is always skipped?\n",
    "I believe not; in loops with skipping conditions, its better to do early skipping, well, *early*.\n",
    "\n",
    "So although the expression starts with `item` - which hints us towards English-like syntax (\"for each item in the category, for each category in the dictionary...\") - in complicated cases it's convenient that we can convert comprehensions to the familiar top-to-bottom form (convenient for programmers, at least).\n",
    "And if you are used to the `black` style formatting where each iteration or condition gets its own line - that makes it even more easier :)\n",
    "\n",
    "Hopefully this notebook un-entangled the syntax of nested comprehensions, and may your iterations always be simple and concise."
   ]
  },
  {
   "cell_type": "code",
   "execution_count": null,
   "id": "00ab9ce7-85a3-425b-90cc-7947029c7551",
   "metadata": {},
   "outputs": [],
   "source": []
  }
 ],
 "metadata": {
  "kernelspec": {
   "display_name": "Python 3 (ipykernel)",
   "language": "python",
   "name": "python3"
  },
  "language_info": {
   "codemirror_mode": {
    "name": "ipython",
    "version": 3
   },
   "file_extension": ".py",
   "mimetype": "text/x-python",
   "name": "python",
   "nbconvert_exporter": "python",
   "pygments_lexer": "ipython3",
   "version": "3.12.8"
  }
 },
 "nbformat": 4,
 "nbformat_minor": 5
}
